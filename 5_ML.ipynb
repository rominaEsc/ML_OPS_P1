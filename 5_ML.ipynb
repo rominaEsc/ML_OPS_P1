{
 "cells": [
  {
   "cell_type": "code",
   "execution_count": 47,
   "metadata": {},
   "outputs": [],
   "source": [
    "import pandas as pd\n",
    "import numpy as np\n",
    "from wordcloud import WordCloud, STOPWORDS\n",
    "\n",
    "from sklearn.feature_extraction.text import TfidfVectorizer, CountVectorizer\n",
    "from sklearn.metrics.pairwise import linear_kernel\n",
    "from pprint import pprint\n",
    "\n",
    "import matplotlib.pyplot as plt\n",
    "import seaborn as sns\n"
   ]
  },
  {
   "cell_type": "code",
   "execution_count": 86,
   "metadata": {},
   "outputs": [],
   "source": [
    "movies = pd.read_csv(\"data/movies_etl.csv\", sep=\",\")\n",
    "directors = pd.read_csv(\"data/directors.csv\", sep=\",\")"
   ]
  },
  {
   "cell_type": "code",
   "execution_count": 17,
   "metadata": {},
   "outputs": [
    {
     "name": "stdout",
     "output_type": "stream",
     "text": [
      "<class 'pandas.core.frame.DataFrame'>\n",
      "RangeIndex: 45333 entries, 0 to 45332\n",
      "Data columns (total 16 columns):\n",
      " #   Column             Non-Null Count  Dtype  \n",
      "---  ------             --------------  -----  \n",
      " 0   id_movie           45333 non-null  int64  \n",
      " 1   title              45333 non-null  object \n",
      " 2   tagline            20381 non-null  object \n",
      " 3   overview           44392 non-null  object \n",
      " 4   original_language  45322 non-null  object \n",
      " 5   runtime            45087 non-null  float64\n",
      " 6   status             45253 non-null  object \n",
      " 7   release_date       45333 non-null  object \n",
      " 8   release_year       45333 non-null  int64  \n",
      " 9   budget             45333 non-null  int64  \n",
      " 10  revenue            45333 non-null  int64  \n",
      " 11  return             45333 non-null  float64\n",
      " 12  vote_count         45333 non-null  int64  \n",
      " 13  vote_average       45333 non-null  int64  \n",
      " 14  popularity         45333 non-null  float64\n",
      " 15  id_collection      4483 non-null   float64\n",
      "dtypes: float64(4), int64(6), object(6)\n",
      "memory usage: 5.5+ MB\n"
     ]
    }
   ],
   "source": [
    "movies.info()"
   ]
  },
  {
   "cell_type": "code",
   "execution_count": 25,
   "metadata": {},
   "outputs": [
    {
     "data": {
      "text/html": [
       "<div>\n",
       "<style scoped>\n",
       "    .dataframe tbody tr th:only-of-type {\n",
       "        vertical-align: middle;\n",
       "    }\n",
       "\n",
       "    .dataframe tbody tr th {\n",
       "        vertical-align: top;\n",
       "    }\n",
       "\n",
       "    .dataframe thead th {\n",
       "        text-align: right;\n",
       "    }\n",
       "</style>\n",
       "<table border=\"1\" class=\"dataframe\">\n",
       "  <thead>\n",
       "    <tr style=\"text-align: right;\">\n",
       "      <th></th>\n",
       "      <th>id_movie</th>\n",
       "      <th>runtime</th>\n",
       "      <th>release_year</th>\n",
       "      <th>budget</th>\n",
       "      <th>revenue</th>\n",
       "      <th>return</th>\n",
       "      <th>vote_count</th>\n",
       "      <th>vote_average</th>\n",
       "      <th>popularity</th>\n",
       "      <th>id_collection</th>\n",
       "    </tr>\n",
       "  </thead>\n",
       "  <tbody>\n",
       "    <tr>\n",
       "      <th>count</th>\n",
       "      <td>45333.000000</td>\n",
       "      <td>45087.000000</td>\n",
       "      <td>45333.000000</td>\n",
       "      <td>4.533300e+04</td>\n",
       "      <td>4.533300e+04</td>\n",
       "      <td>4.533300e+04</td>\n",
       "      <td>45333.000000</td>\n",
       "      <td>45333.000000</td>\n",
       "      <td>45333.000000</td>\n",
       "      <td>4483.000000</td>\n",
       "    </tr>\n",
       "    <tr>\n",
       "      <th>mean</th>\n",
       "      <td>108058.249642</td>\n",
       "      <td>94.175882</td>\n",
       "      <td>1991.882536</td>\n",
       "      <td>4.230989e+06</td>\n",
       "      <td>1.123304e+07</td>\n",
       "      <td>1.578364e+02</td>\n",
       "      <td>110.149207</td>\n",
       "      <td>5.250369</td>\n",
       "      <td>2.925689</td>\n",
       "      <td>184212.998885</td>\n",
       "    </tr>\n",
       "    <tr>\n",
       "      <th>std</th>\n",
       "      <td>112196.879634</td>\n",
       "      <td>38.351846</td>\n",
       "      <td>24.053205</td>\n",
       "      <td>1.744452e+07</td>\n",
       "      <td>6.441813e+07</td>\n",
       "      <td>1.313633e+04</td>\n",
       "      <td>491.967458</td>\n",
       "      <td>1.858919</td>\n",
       "      <td>6.011321</td>\n",
       "      <td>141638.033338</td>\n",
       "    </tr>\n",
       "    <tr>\n",
       "      <th>min</th>\n",
       "      <td>2.000000</td>\n",
       "      <td>0.000000</td>\n",
       "      <td>1874.000000</td>\n",
       "      <td>0.000000e+00</td>\n",
       "      <td>0.000000e+00</td>\n",
       "      <td>0.000000e+00</td>\n",
       "      <td>0.000000</td>\n",
       "      <td>0.000000</td>\n",
       "      <td>0.000000</td>\n",
       "      <td>10.000000</td>\n",
       "    </tr>\n",
       "    <tr>\n",
       "      <th>25%</th>\n",
       "      <td>26398.000000</td>\n",
       "      <td>85.000000</td>\n",
       "      <td>1978.000000</td>\n",
       "      <td>0.000000e+00</td>\n",
       "      <td>0.000000e+00</td>\n",
       "      <td>0.000000e+00</td>\n",
       "      <td>3.000000</td>\n",
       "      <td>5.000000</td>\n",
       "      <td>0.388631</td>\n",
       "      <td>86027.500000</td>\n",
       "    </tr>\n",
       "    <tr>\n",
       "      <th>50%</th>\n",
       "      <td>59853.000000</td>\n",
       "      <td>95.000000</td>\n",
       "      <td>2001.000000</td>\n",
       "      <td>0.000000e+00</td>\n",
       "      <td>0.000000e+00</td>\n",
       "      <td>0.000000e+00</td>\n",
       "      <td>10.000000</td>\n",
       "      <td>6.000000</td>\n",
       "      <td>1.129891</td>\n",
       "      <td>141615.000000</td>\n",
       "    </tr>\n",
       "    <tr>\n",
       "      <th>75%</th>\n",
       "      <td>156700.000000</td>\n",
       "      <td>107.000000</td>\n",
       "      <td>2010.000000</td>\n",
       "      <td>0.000000e+00</td>\n",
       "      <td>0.000000e+00</td>\n",
       "      <td>0.000000e+00</td>\n",
       "      <td>34.000000</td>\n",
       "      <td>6.000000</td>\n",
       "      <td>3.687905</td>\n",
       "      <td>294179.500000</td>\n",
       "    </tr>\n",
       "    <tr>\n",
       "      <th>max</th>\n",
       "      <td>469172.000000</td>\n",
       "      <td>1256.000000</td>\n",
       "      <td>2020.000000</td>\n",
       "      <td>3.800000e+08</td>\n",
       "      <td>2.787965e+09</td>\n",
       "      <td>1.916667e+06</td>\n",
       "      <td>14075.000000</td>\n",
       "      <td>10.000000</td>\n",
       "      <td>547.488298</td>\n",
       "      <td>480160.000000</td>\n",
       "    </tr>\n",
       "  </tbody>\n",
       "</table>\n",
       "</div>"
      ],
      "text/plain": [
       "            id_movie       runtime  release_year        budget       revenue  \\\n",
       "count   45333.000000  45087.000000  45333.000000  4.533300e+04  4.533300e+04   \n",
       "mean   108058.249642     94.175882   1991.882536  4.230989e+06  1.123304e+07   \n",
       "std    112196.879634     38.351846     24.053205  1.744452e+07  6.441813e+07   \n",
       "min         2.000000      0.000000   1874.000000  0.000000e+00  0.000000e+00   \n",
       "25%     26398.000000     85.000000   1978.000000  0.000000e+00  0.000000e+00   \n",
       "50%     59853.000000     95.000000   2001.000000  0.000000e+00  0.000000e+00   \n",
       "75%    156700.000000    107.000000   2010.000000  0.000000e+00  0.000000e+00   \n",
       "max    469172.000000   1256.000000   2020.000000  3.800000e+08  2.787965e+09   \n",
       "\n",
       "             return    vote_count  vote_average    popularity  id_collection  \n",
       "count  4.533300e+04  45333.000000  45333.000000  45333.000000    4483.000000  \n",
       "mean   1.578364e+02    110.149207      5.250369      2.925689  184212.998885  \n",
       "std    1.313633e+04    491.967458      1.858919      6.011321  141638.033338  \n",
       "min    0.000000e+00      0.000000      0.000000      0.000000      10.000000  \n",
       "25%    0.000000e+00      3.000000      5.000000      0.388631   86027.500000  \n",
       "50%    0.000000e+00     10.000000      6.000000      1.129891  141615.000000  \n",
       "75%    0.000000e+00     34.000000      6.000000      3.687905  294179.500000  \n",
       "max    1.916667e+06  14075.000000     10.000000    547.488298  480160.000000  "
      ]
     },
     "execution_count": 25,
     "metadata": {},
     "output_type": "execute_result"
    }
   ],
   "source": [
    "movies.describe()"
   ]
  },
  {
   "attachments": {},
   "cell_type": "markdown",
   "metadata": {},
   "source": [
    "Podemos ver que mas del 75% de las peliculas tienen un return = 0 por lo que utilizaremos este dato para filtrar las peliculas con las que entrenaremos nuestro modelo."
   ]
  },
  {
   "cell_type": "code",
   "execution_count": 87,
   "metadata": {},
   "outputs": [
    {
     "data": {
      "text/plain": [
       "(5369, 16)"
      ]
     },
     "execution_count": 87,
     "metadata": {},
     "output_type": "execute_result"
    }
   ],
   "source": [
    "movies = movies[movies['return'] != 0]\n",
    "movies.shape"
   ]
  },
  {
   "cell_type": "code",
   "execution_count": 88,
   "metadata": {},
   "outputs": [],
   "source": [
    "sist_recomendacion_df = (\n",
    "     pd.merge(\n",
    "         movies[['title','overview','id_movie']],\n",
    "         directors,\n",
    "         on = 'id_movie',\n",
    "         how='inner')\n",
    "     )\n",
    "\n",
    "# sist_recomendacion_df"
   ]
  },
  {
   "cell_type": "code",
   "execution_count": 89,
   "metadata": {},
   "outputs": [
    {
     "data": {
      "text/html": [
       "<div>\n",
       "<style scoped>\n",
       "    .dataframe tbody tr th:only-of-type {\n",
       "        vertical-align: middle;\n",
       "    }\n",
       "\n",
       "    .dataframe tbody tr th {\n",
       "        vertical-align: top;\n",
       "    }\n",
       "\n",
       "    .dataframe thead th {\n",
       "        text-align: right;\n",
       "    }\n",
       "</style>\n",
       "<table border=\"1\" class=\"dataframe\">\n",
       "  <thead>\n",
       "    <tr style=\"text-align: right;\">\n",
       "      <th></th>\n",
       "      <th>title</th>\n",
       "      <th>overview</th>\n",
       "      <th>name</th>\n",
       "    </tr>\n",
       "  </thead>\n",
       "  <tbody>\n",
       "    <tr>\n",
       "      <th>0</th>\n",
       "      <td>(500) Days Of Summer</td>\n",
       "      <td>Tom (Joseph Gordon-Levitt), greeting-card writ...</td>\n",
       "      <td>Mychael Danna Hope Hanafin Steven J. Wolfe Mas...</td>\n",
       "    </tr>\n",
       "    <tr>\n",
       "      <th>1</th>\n",
       "      <td>10 Cloverfield Lane</td>\n",
       "      <td>After a car accident, Michelle awakens to find...</td>\n",
       "      <td>Monika Mikkelsen J.J. Abrams Matthew W. Mungle...</td>\n",
       "    </tr>\n",
       "    <tr>\n",
       "      <th>2</th>\n",
       "      <td>10 Things I Hate About You</td>\n",
       "      <td>Bianca, a tenth grader, has never gone on a da...</td>\n",
       "      <td>Charles Graffeo William Shakespeare Mark Irwin...</td>\n",
       "    </tr>\n",
       "    <tr>\n",
       "      <th>3</th>\n",
       "      <td>10 To Midnight</td>\n",
       "      <td>Based on the real-life Richard Speck murders, ...</td>\n",
       "      <td>Adam Greenberg William Roberts J. Lee Thompson...</td>\n",
       "    </tr>\n",
       "    <tr>\n",
       "      <th>4</th>\n",
       "      <td>10,000 Bc</td>\n",
       "      <td>A prehistoric epic that follows a young mammot...</td>\n",
       "      <td>Sarah Bradshaw Mali Finn Alexander Berner Tom ...</td>\n",
       "    </tr>\n",
       "    <tr>\n",
       "      <th>...</th>\n",
       "      <td>...</td>\n",
       "      <td>...</td>\n",
       "      <td>...</td>\n",
       "    </tr>\n",
       "    <tr>\n",
       "      <th>5349</th>\n",
       "      <td>Zulu</td>\n",
       "      <td>In 1879, during the Zulu wars, man of the peop...</td>\n",
       "      <td>Cy Endfield John Barry Stanley Baker Stephen D...</td>\n",
       "    </tr>\n",
       "    <tr>\n",
       "      <th>5350</th>\n",
       "      <td>Zyzzyx Road</td>\n",
       "      <td>A married man (Leo Grillo) meets a beautiful w...</td>\n",
       "      <td>Valerie McCaffrey David Klein Ryan Beveridge J...</td>\n",
       "    </tr>\n",
       "    <tr>\n",
       "      <th>5351</th>\n",
       "      <td>[Rec]</td>\n",
       "      <td>A television reporter and cameraman follow eme...</td>\n",
       "      <td>Julio Fernández David Gallart Carlos Fernández...</td>\n",
       "    </tr>\n",
       "    <tr>\n",
       "      <th>5352</th>\n",
       "      <td>[Rec]²</td>\n",
       "      <td>The action continues from [REC], with the medi...</td>\n",
       "      <td>Jaume Balagueró Paco Plaza Manu Díez</td>\n",
       "    </tr>\n",
       "    <tr>\n",
       "      <th>5353</th>\n",
       "      <td>Æon Flux</td>\n",
       "      <td>400 years into the future, disease has wiped o...</td>\n",
       "      <td>Tom Rosenberg Gale Anne Hurd Graeme Revell Gar...</td>\n",
       "    </tr>\n",
       "  </tbody>\n",
       "</table>\n",
       "<p>5354 rows × 3 columns</p>\n",
       "</div>"
      ],
      "text/plain": [
       "                           title  \\\n",
       "0           (500) Days Of Summer   \n",
       "1            10 Cloverfield Lane   \n",
       "2     10 Things I Hate About You   \n",
       "3                 10 To Midnight   \n",
       "4                      10,000 Bc   \n",
       "...                          ...   \n",
       "5349                        Zulu   \n",
       "5350                 Zyzzyx Road   \n",
       "5351                       [Rec]   \n",
       "5352                      [Rec]²   \n",
       "5353                    Æon Flux   \n",
       "\n",
       "                                               overview  \\\n",
       "0     Tom (Joseph Gordon-Levitt), greeting-card writ...   \n",
       "1     After a car accident, Michelle awakens to find...   \n",
       "2     Bianca, a tenth grader, has never gone on a da...   \n",
       "3     Based on the real-life Richard Speck murders, ...   \n",
       "4     A prehistoric epic that follows a young mammot...   \n",
       "...                                                 ...   \n",
       "5349  In 1879, during the Zulu wars, man of the peop...   \n",
       "5350  A married man (Leo Grillo) meets a beautiful w...   \n",
       "5351  A television reporter and cameraman follow eme...   \n",
       "5352  The action continues from [REC], with the medi...   \n",
       "5353  400 years into the future, disease has wiped o...   \n",
       "\n",
       "                                                   name  \n",
       "0     Mychael Danna Hope Hanafin Steven J. Wolfe Mas...  \n",
       "1     Monika Mikkelsen J.J. Abrams Matthew W. Mungle...  \n",
       "2     Charles Graffeo William Shakespeare Mark Irwin...  \n",
       "3     Adam Greenberg William Roberts J. Lee Thompson...  \n",
       "4     Sarah Bradshaw Mali Finn Alexander Berner Tom ...  \n",
       "...                                                 ...  \n",
       "5349  Cy Endfield John Barry Stanley Baker Stephen D...  \n",
       "5350  Valerie McCaffrey David Klein Ryan Beveridge J...  \n",
       "5351  Julio Fernández David Gallart Carlos Fernández...  \n",
       "5352               Jaume Balagueró Paco Plaza Manu Díez  \n",
       "5353  Tom Rosenberg Gale Anne Hurd Graeme Revell Gar...  \n",
       "\n",
       "[5354 rows x 3 columns]"
      ]
     },
     "execution_count": 89,
     "metadata": {},
     "output_type": "execute_result"
    }
   ],
   "source": [
    "sist_recomendacion_df = sist_recomendacion_df.groupby(['title','overview'], as_index=False)['name'].agg(' '.join)\n",
    "sist_recomendacion_df"
   ]
  },
  {
   "cell_type": "code",
   "execution_count": 90,
   "metadata": {},
   "outputs": [
    {
     "name": "stdout",
     "output_type": "stream",
     "text": [
      "title       0\n",
      "overview    0\n",
      "name        0\n",
      "dtype: int64\n",
      "(5354, 3)\n"
     ]
    }
   ],
   "source": [
    "print(\n",
    "    sist_recomendacion_df\n",
    "    .isnull()\n",
    "    .sum()\n",
    ")\n",
    "print (sist_recomendacion_df.shape)"
   ]
  },
  {
   "cell_type": "code",
   "execution_count": 91,
   "metadata": {},
   "outputs": [],
   "source": [
    "sist_recomendacion_df['title'] = sist_recomendacion_df['title'].astype('str').str.title().str.strip()\n",
    "sist_recomendacion_df['overview']= sist_recomendacion_df ['overview'].astype('str')\n",
    "sist_recomendacion_df['name'] = sist_recomendacion_df['name'].astype('str')\n",
    "\n",
    "sist_recomendacion_df['text'] = sist_recomendacion_df['overview'] +  sist_recomendacion_df['name']\n",
    "\n",
    "df = sist_recomendacion_df[['title', 'text']]\n",
    "\n",
    "df.to_csv(\"data/ml_df.csv\",index=False)"
   ]
  },
  {
   "attachments": {},
   "cell_type": "markdown",
   "metadata": {},
   "source": [
    "---"
   ]
  },
  {
   "attachments": {},
   "cell_type": "markdown",
   "metadata": {},
   "source": [
    "# Sistema de Recomendación"
   ]
  },
  {
   "cell_type": "code",
   "execution_count": 92,
   "metadata": {},
   "outputs": [],
   "source": [
    "# Instanciamos el CV\n",
    "vectorizer = CountVectorizer()\n",
    "stopwords = STOPWORDS\n",
    "# eliminamos las \"stop words\", palabras comunes no informativas\n",
    "tf = TfidfVectorizer(stop_words='english')\n",
    "\n",
    "# calculamos los features para cada ítem (texto)\n",
    "tfidf_matrix = tf.fit_transform(df['text'])\n",
    "\n",
    "# calculamos las similitudes entre todos los documentos\n",
    "cosine_similarities = linear_kernel(tfidf_matrix, tfidf_matrix)\n",
    "n = 5\n",
    "\n",
    "results = {} \n",
    "for idx, row in df.iterrows():\n",
    "    # guardamos los indices similares basados en la similitud coseno. Los ordenamos en modo ascendente, siendo 0 nada de similitud y 1 total\n",
    "    similar_indices = cosine_similarities[idx].argsort()[:-n-2:-1] \n",
    "    # guardamos los N más cercanos\n",
    "    similar_items = [(f\"{df.loc[i, 'title']}\") for i in similar_indices]\n",
    "    results[f\"{row['title']}\"] = similar_items[1:]\n"
   ]
  },
  {
   "cell_type": "code",
   "execution_count": 93,
   "metadata": {},
   "outputs": [
    {
     "name": "stdout",
     "output_type": "stream",
     "text": [
      "['Toy Story 2', 'Monsters, Inc.', 'Toy Story 3', 'Cars', 'Finding Nemo']\n",
      "['Monsters, Inc.', 'Toy Story', 'Finding Nemo', 'Up', 'Toy Story 3']\n",
      "['Cars 2', 'Monsters, Inc.', 'Toy Story 2', 'Cars 3', 'Up']\n"
     ]
    }
   ],
   "source": [
    "pprint(results['Toy Story'])\n",
    "pprint(results['Toy Story 2'])\n",
    "pprint(results['Cars'])"
   ]
  },
  {
   "attachments": {},
   "cell_type": "markdown",
   "metadata": {},
   "source": [
    "-----------"
   ]
  },
  {
   "cell_type": "code",
   "execution_count": 33,
   "metadata": {},
   "outputs": [],
   "source": [
    "# ML\n",
    "# @app.get('/recomendacion/{titulo}')\n",
    "def recomendacion(titulo:str):\n",
    "    '''Ingresas un nombre de pelicula y te recomienda las similares en una lista'''\n",
    "\n",
    "    titulo = titulo.title().strip()\n",
    "    lista = (results[titulo])\n",
    "    \n",
    "    return {'lista recomendada': lista}"
   ]
  },
  {
   "cell_type": "code",
   "execution_count": 34,
   "metadata": {},
   "outputs": [
    {
     "data": {
      "text/plain": [
       "{'lista recomendada': ['Toy Story 2',\n",
       "  'Monsters, Inc.',\n",
       "  'Toy Story 3',\n",
       "  'Cars',\n",
       "  'Finding Nemo']}"
      ]
     },
     "execution_count": 34,
     "metadata": {},
     "output_type": "execute_result"
    }
   ],
   "source": [
    "recomendacion('Toy Story')"
   ]
  }
 ],
 "metadata": {
  "kernelspec": {
   "display_name": "Python 3",
   "language": "python",
   "name": "python3"
  },
  "language_info": {
   "codemirror_mode": {
    "name": "ipython",
    "version": 3
   },
   "file_extension": ".py",
   "mimetype": "text/x-python",
   "name": "python",
   "nbconvert_exporter": "python",
   "pygments_lexer": "ipython3",
   "version": "3.11.0"
  },
  "orig_nbformat": 4
 },
 "nbformat": 4,
 "nbformat_minor": 2
}
