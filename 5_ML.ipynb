{
 "cells": [
  {
   "cell_type": "code",
   "execution_count": 14,
   "metadata": {},
   "outputs": [],
   "source": [
    "import pandas as pd\n",
    "from wordcloud import WordCloud, STOPWORDS\n",
    "\n",
    "from sklearn.feature_extraction.text import TfidfVectorizer, CountVectorizer\n",
    "from sklearn.metrics.pairwise import linear_kernel\n",
    "from pprint import pprint"
   ]
  },
  {
   "cell_type": "code",
   "execution_count": 15,
   "metadata": {},
   "outputs": [],
   "source": [
    "movies = pd.read_csv(\"data/movies_etl.csv\", sep=\",\")\n",
    "directors = pd.read_csv(\"data/directors.csv\", sep=\",\")"
   ]
  },
  {
   "cell_type": "code",
   "execution_count": 17,
   "metadata": {},
   "outputs": [],
   "source": [
    "sist_recomendacion_df = (\n",
    "     pd.merge(\n",
    "         movies[['title','overview','id_movie']],\n",
    "         directors,\n",
    "         on = 'id_movie',\n",
    "         how='inner')\n",
    "     )\n",
    "\n",
    "# sist_recomendacion_df"
   ]
  },
  {
   "cell_type": "code",
   "execution_count": 18,
   "metadata": {},
   "outputs": [
    {
     "data": {
      "text/html": [
       "<div>\n",
       "<style scoped>\n",
       "    .dataframe tbody tr th:only-of-type {\n",
       "        vertical-align: middle;\n",
       "    }\n",
       "\n",
       "    .dataframe tbody tr th {\n",
       "        vertical-align: top;\n",
       "    }\n",
       "\n",
       "    .dataframe thead th {\n",
       "        text-align: right;\n",
       "    }\n",
       "</style>\n",
       "<table border=\"1\" class=\"dataframe\">\n",
       "  <thead>\n",
       "    <tr style=\"text-align: right;\">\n",
       "      <th></th>\n",
       "      <th>title</th>\n",
       "      <th>overview</th>\n",
       "      <th>name</th>\n",
       "    </tr>\n",
       "  </thead>\n",
       "  <tbody>\n",
       "    <tr>\n",
       "      <th>0</th>\n",
       "      <td>!Women Art Revolution</td>\n",
       "      <td>Through intimate interviews, provocative art, ...</td>\n",
       "      <td>Lynn Hershman Leeson Ariel Dougherty</td>\n",
       "    </tr>\n",
       "    <tr>\n",
       "      <th>1</th>\n",
       "      <td>#1 Cheerleader Camp</td>\n",
       "      <td>A pair of horny college guys get summer jobs a...</td>\n",
       "      <td>Mark Quod David Michael Latt Chris Ridenhour D...</td>\n",
       "    </tr>\n",
       "    <tr>\n",
       "      <th>2</th>\n",
       "      <td>#Chicagogirl</td>\n",
       "      <td>From her childhood bedroom in the Chicago subu...</td>\n",
       "      <td>Joe Piscatella Mark Rinehart Jeff Castelluccio</td>\n",
       "    </tr>\n",
       "    <tr>\n",
       "      <th>3</th>\n",
       "      <td>#Horror</td>\n",
       "      <td>Inspired by actual events, a group of 12 year ...</td>\n",
       "      <td>Tara Subkoff Jason Ludman Oren Segal Brendan W...</td>\n",
       "    </tr>\n",
       "    <tr>\n",
       "      <th>4</th>\n",
       "      <td>$1,000 On The Black</td>\n",
       "      <td>Johnny Liston has just been released from pris...</td>\n",
       "      <td>Mario Siciliano Rolf Olsen Ernesto Gastaldi An...</td>\n",
       "    </tr>\n",
       "    <tr>\n",
       "      <th>...</th>\n",
       "      <td>...</td>\n",
       "      <td>...</td>\n",
       "      <td>...</td>\n",
       "    </tr>\n",
       "    <tr>\n",
       "      <th>43713</th>\n",
       "      <td>Юленька</td>\n",
       "      <td>A university professor, who wants to slow down...</td>\n",
       "      <td>Aleksandr Strizhenov Andrey Kureychik Grigori ...</td>\n",
       "    </tr>\n",
       "    <tr>\n",
       "      <th>43714</th>\n",
       "      <td>‘Rameau’S Nephew’ By Diderot (Thanx To Dennis ...</td>\n",
       "      <td>Described (rather cheekily) by director Michae...</td>\n",
       "      <td>Michael Snow</td>\n",
       "    </tr>\n",
       "    <tr>\n",
       "      <th>43715</th>\n",
       "      <td>’Round Midnight</td>\n",
       "      <td>Inside the Blue Note nightclub one night in 19...</td>\n",
       "      <td>Amanda Mackey Alexandre Trauner Herbie Hancock...</td>\n",
       "    </tr>\n",
       "    <tr>\n",
       "      <th>43716</th>\n",
       "      <td>…And The Fifth Horseman Is Fear</td>\n",
       "      <td>A Jewish doctor helps a political fugitive dur...</td>\n",
       "      <td>Miroslav Pesan Zbynek Brynych Milan Nejedlý Ha...</td>\n",
       "    </tr>\n",
       "    <tr>\n",
       "      <th>43717</th>\n",
       "      <td>ファンタスティポ</td>\n",
       "      <td>Two brothers must take the helm of their famil...</td>\n",
       "      <td>Shogo Yabuuchi Shogo Yabuuchi</td>\n",
       "    </tr>\n",
       "  </tbody>\n",
       "</table>\n",
       "<p>43718 rows × 3 columns</p>\n",
       "</div>"
      ],
      "text/plain": [
       "                                                   title  \\\n",
       "0                                  !Women Art Revolution   \n",
       "1                                    #1 Cheerleader Camp   \n",
       "2                                           #Chicagogirl   \n",
       "3                                                #Horror   \n",
       "4                                    $1,000 On The Black   \n",
       "...                                                  ...   \n",
       "43713                                            Юленька   \n",
       "43714  ‘Rameau’S Nephew’ By Diderot (Thanx To Dennis ...   \n",
       "43715                                    ’Round Midnight   \n",
       "43716                    …And The Fifth Horseman Is Fear   \n",
       "43717                                           ファンタスティポ   \n",
       "\n",
       "                                                overview  \\\n",
       "0      Through intimate interviews, provocative art, ...   \n",
       "1      A pair of horny college guys get summer jobs a...   \n",
       "2      From her childhood bedroom in the Chicago subu...   \n",
       "3      Inspired by actual events, a group of 12 year ...   \n",
       "4      Johnny Liston has just been released from pris...   \n",
       "...                                                  ...   \n",
       "43713  A university professor, who wants to slow down...   \n",
       "43714  Described (rather cheekily) by director Michae...   \n",
       "43715  Inside the Blue Note nightclub one night in 19...   \n",
       "43716  A Jewish doctor helps a political fugitive dur...   \n",
       "43717  Two brothers must take the helm of their famil...   \n",
       "\n",
       "                                                    name  \n",
       "0                   Lynn Hershman Leeson Ariel Dougherty  \n",
       "1      Mark Quod David Michael Latt Chris Ridenhour D...  \n",
       "2         Joe Piscatella Mark Rinehart Jeff Castelluccio  \n",
       "3      Tara Subkoff Jason Ludman Oren Segal Brendan W...  \n",
       "4      Mario Siciliano Rolf Olsen Ernesto Gastaldi An...  \n",
       "...                                                  ...  \n",
       "43713  Aleksandr Strizhenov Andrey Kureychik Grigori ...  \n",
       "43714                                       Michael Snow  \n",
       "43715  Amanda Mackey Alexandre Trauner Herbie Hancock...  \n",
       "43716  Miroslav Pesan Zbynek Brynych Milan Nejedlý Ha...  \n",
       "43717                      Shogo Yabuuchi Shogo Yabuuchi  \n",
       "\n",
       "[43718 rows x 3 columns]"
      ]
     },
     "execution_count": 18,
     "metadata": {},
     "output_type": "execute_result"
    }
   ],
   "source": [
    "sist_recomendacion_df = sist_recomendacion_df.groupby(['title','overview'], as_index=False)['name'].agg(' '.join)\n",
    "sist_recomendacion_df"
   ]
  },
  {
   "cell_type": "code",
   "execution_count": 19,
   "metadata": {},
   "outputs": [
    {
     "name": "stdout",
     "output_type": "stream",
     "text": [
      "title       0\n",
      "overview    0\n",
      "name        0\n",
      "dtype: int64\n",
      "(43718, 3)\n"
     ]
    }
   ],
   "source": [
    "print(\n",
    "    sist_recomendacion_df\n",
    "    .isnull()\n",
    "    .sum()\n",
    ")\n",
    "print (sist_recomendacion_df.shape)"
   ]
  },
  {
   "cell_type": "code",
   "execution_count": 26,
   "metadata": {},
   "outputs": [],
   "source": [
    "sist_recomendacion_df['title'] = sist_recomendacion_df['title'].astype('str').str.title().str.strip()\n",
    "sist_recomendacion_df['overview']= sist_recomendacion_df ['overview'].astype('str')\n",
    "sist_recomendacion_df['name'] = sist_recomendacion_df['name'].astype('str')\n",
    "\n",
    "sist_recomendacion_df['text'] = sist_recomendacion_df['overview'] +  sist_recomendacion_df['name']\n",
    "\n",
    "df = sist_recomendacion_df[['title', 'text']]\n",
    "\n",
    "df.to_csv(\"data/ml_df.csv\",index=False)"
   ]
  },
  {
   "attachments": {},
   "cell_type": "markdown",
   "metadata": {},
   "source": [
    "---"
   ]
  },
  {
   "attachments": {},
   "cell_type": "markdown",
   "metadata": {},
   "source": [
    "# Sistema de Recomendación"
   ]
  },
  {
   "cell_type": "code",
   "execution_count": 21,
   "metadata": {},
   "outputs": [],
   "source": [
    "# Instanciamos el CV\n",
    "vectorizer = CountVectorizer()\n",
    "stopwords = STOPWORDS\n",
    "# eliminamos las \"stop words\", palabras comunes no informativas\n",
    "tf = TfidfVectorizer(stop_words='english')\n",
    "\n",
    "# calculamos los features para cada ítem (texto)\n",
    "tfidf_matrix = tf.fit_transform(df['text'])\n",
    "\n",
    "# calculamos las similitudes entre todos los documentos\n",
    "cosine_similarities = linear_kernel(tfidf_matrix, tfidf_matrix)\n",
    "n = 5\n",
    "\n",
    "results = {} \n",
    "for idx, row in df.iterrows():\n",
    "    # guardamos los indices similares basados en la similitud coseno. Los ordenamos en modo ascendente, siendo 0 nada de similitud y 1 total\n",
    "    similar_indices = cosine_similarities[idx].argsort()[:-n-2:-1] \n",
    "    # guardamos los N más cercanos\n",
    "    similar_items = [(f\"{df.loc[i, 'title']}\") for i in similar_indices]\n",
    "    results[f\"{row['title']}\"] = similar_items[1:]\n"
   ]
  },
  {
   "cell_type": "code",
   "execution_count": 24,
   "metadata": {},
   "outputs": [
    {
     "name": "stdout",
     "output_type": "stream",
     "text": [
      "['Toy Story 2', 'Monsters, Inc.', 'Toy Story 3', 'Cars', 'Finding Nemo']\n",
      "['Monsters, Inc.', 'Toy Story', 'Finding Nemo', 'Up', 'Toy Story 3']\n",
      "['Cars 2', 'Monsters, Inc.', 'Toy Story 2', 'Cars 3', \"Geri'S Game\"]\n"
     ]
    }
   ],
   "source": [
    "pprint(results['Toy Story'])\n",
    "pprint(results['Toy Story 2'])\n",
    "pprint(results['Cars'])"
   ]
  },
  {
   "attachments": {},
   "cell_type": "markdown",
   "metadata": {},
   "source": [
    "-----------"
   ]
  },
  {
   "cell_type": "code",
   "execution_count": 33,
   "metadata": {},
   "outputs": [],
   "source": [
    "# ML\n",
    "# @app.get('/recomendacion/{titulo}')\n",
    "def recomendacion(titulo:str):\n",
    "    '''Ingresas un nombre de pelicula y te recomienda las similares en una lista'''\n",
    "\n",
    "    titulo = titulo.title().strip()\n",
    "    lista = (results[titulo])\n",
    "    \n",
    "    return {'lista recomendada': lista}"
   ]
  },
  {
   "cell_type": "code",
   "execution_count": 34,
   "metadata": {},
   "outputs": [
    {
     "data": {
      "text/plain": [
       "{'lista recomendada': ['Toy Story 2',\n",
       "  'Monsters, Inc.',\n",
       "  'Toy Story 3',\n",
       "  'Cars',\n",
       "  'Finding Nemo']}"
      ]
     },
     "execution_count": 34,
     "metadata": {},
     "output_type": "execute_result"
    }
   ],
   "source": [
    "recomendacion('Toy Story')"
   ]
  }
 ],
 "metadata": {
  "kernelspec": {
   "display_name": "Python 3",
   "language": "python",
   "name": "python3"
  },
  "language_info": {
   "codemirror_mode": {
    "name": "ipython",
    "version": 3
   },
   "file_extension": ".py",
   "mimetype": "text/x-python",
   "name": "python",
   "nbconvert_exporter": "python",
   "pygments_lexer": "ipython3",
   "version": "3.11.0"
  },
  "orig_nbformat": 4
 },
 "nbformat": 4,
 "nbformat_minor": 2
}
