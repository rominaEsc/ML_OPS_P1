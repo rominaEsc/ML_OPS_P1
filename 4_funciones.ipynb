{
 "cells": [
  {
   "attachments": {},
   "cell_type": "markdown",
   "metadata": {},
   "source": [
    "Deben crear 6 funciones para los endpoints que se consumirán en la API, recuerden que deben tener un decorador por cada una (@app.get(‘/’)).\n",
    "\n",
    "1\n",
    "def cantidad_filmaciones_mes( Mes ): Se ingresa un mes en idioma Español. Debe devolver la cantidad de películas que fueron estrenadas en el mes consultado en la totalidad del dataset.\n",
    "                    Ejemplo de retorno: X cantidad de películas fueron estrenadas en el mes de X\n",
    "\n",
    "2\n",
    "def cantidad_filmaciones_dia( Dia ): Se ingresa un día en idioma Español. Debe devolver la cantidad de películas que fueron estrenadas en día consultado en la totalidad del dataset.\n",
    "                    Ejemplo de retorno: X cantidad de películas fueron estrenadas en los días X\n",
    "\n",
    "3\n",
    "def score_titulo( titulo_de_la_filmación ): Se ingresa el título de una filmación esperando como respuesta el título, el año de estreno y el score.\n",
    "                    Ejemplo de retorno: La película X fue estrenada en el año X con un score/popularidad de X\n",
    "\n",
    "4\n",
    "def votos_titulo( titulo_de_la_filmación ): Se ingresa el título de una filmación esperando como respuesta el título, la cantidad de votos y el valor promedio de las votaciones. La misma variable deberá de contar con al menos 2000 valoraciones, caso contrario, debemos contar con un mensaje avisando que no cumple esta condición y que por ende, no se devuelve ningun valor.\n",
    "                    Ejemplo de retorno: La película X fue estrenada en el año X. La misma cuenta con un total de X valoraciones, con un promedio de X\n",
    "\n",
    "5\n",
    "def get_actor( nombre_actor ): Se ingresa el nombre de un actor que se encuentre dentro de un dataset debiendo devolver el éxito del mismo medido a través del retorno. Además, la cantidad de películas que en las que ha participado y el promedio de retorno. La definición no deberá considerar directores.\n",
    "                    Ejemplo de retorno: El actor X ha participado de X cantidad de filmaciones, el mismo ha conseguido un retorno de X con un promedio de X por filmación\n",
    "\n",
    "6\n",
    "def get_director( nombre_director ): Se ingresa el nombre de un director que se encuentre dentro de un dataset debiendo devolver el éxito del mismo medido a través del retorno. Además, deberá devolver el nombre de cada película con la fecha de lanzamiento, retorno individual, costo y ganancia de la misma."
   ]
  },
  {
   "cell_type": "code",
   "execution_count": 193,
   "metadata": {},
   "outputs": [],
   "source": [
    "import pandas as pd"
   ]
  },
  {
   "cell_type": "code",
   "execution_count": 194,
   "metadata": {},
   "outputs": [],
   "source": [
    "estrenos_por_mes = pd.read_csv(\"data/estrenos_por_mes.csv\", sep=\",\")\n",
    "estrenos_por_dia = pd.read_csv(\"data/estrenos_por_dia.csv\", sep=\",\")\n",
    "movies = pd.read_csv(\"data/movies_etl.csv\", sep=\",\")\n",
    "actors = pd.read_csv(\"data/actors.csv\", sep=\",\")\n",
    "directors = pd.read_csv(\"data/directors.csv\", sep=\",\")\n"
   ]
  },
  {
   "attachments": {},
   "cell_type": "markdown",
   "metadata": {},
   "source": [
    "-----"
   ]
  },
  {
   "attachments": {},
   "cell_type": "markdown",
   "metadata": {},
   "source": [
    "# 1. cantidad_filmaciones_mes"
   ]
  },
  {
   "cell_type": "code",
   "execution_count": 195,
   "metadata": {},
   "outputs": [],
   "source": [
    "def cantidad_filmaciones_mes( mes ): \n",
    "    '''\n",
    "    Se ingresa un mes en idioma Español. Debe devolver la cantidad de películas que fueron estrenadas en el mes consultado en la totalidad del dataset.\n",
    "    Ejemplo de retorno: X cantidad de películas fueron estrenadas en el mes de X\n",
    "    '''\n",
    "    mes = mes.lower()\n",
    "\n",
    "    if mes == 'setiembre':\n",
    "        mes = 'septiembre'\n",
    "    if mes in ['enero','febrero','marzo','abril','mayo','junio','julio','agosto','septiembre','octubre','noviembre','diciembre']:\n",
    "        respuesta = estrenos_por_mes[estrenos_por_mes.mes == mes].iloc[0,1]\n",
    "\n",
    "    else:\n",
    "        respuesta = 'Ud. ingreso: ' + mes + '. Por favor, ingrese el nombre del mes que desea consultar en español'\n",
    "    return {'mes':mes, 'cantidad':respuesta}"
   ]
  },
  {
   "cell_type": "code",
   "execution_count": 196,
   "metadata": {},
   "outputs": [
    {
     "data": {
      "text/plain": [
       "{'mes': 'sembre',\n",
       " 'cantidad': 'Ud. ingreso: sembre. Por favor, ingrese el nombre del mes que desea consultar en español'}"
      ]
     },
     "execution_count": 196,
     "metadata": {},
     "output_type": "execute_result"
    }
   ],
   "source": [
    "cantidad_filmaciones_mes('Sembre')\n"
   ]
  },
  {
   "attachments": {},
   "cell_type": "markdown",
   "metadata": {},
   "source": [
    "----------"
   ]
  },
  {
   "attachments": {},
   "cell_type": "markdown",
   "metadata": {},
   "source": [
    "# 2. cantidad_filmaciones_dia"
   ]
  },
  {
   "cell_type": "code",
   "execution_count": 197,
   "metadata": {},
   "outputs": [],
   "source": [
    " # @app.get('/cantidad_filmaciones_dia/{dia}')\n",
    "\n",
    "def cantidad_filmaciones_dia( dia ): \n",
    "    '''\n",
    "    Se ingresa un día en idioma Español. Debe devolver la cantidad de películas que fueron estrenadas en día consultado en la totalidad del dataset.\n",
    "    Ejemplo de retorno: X cantidad de películas fueron estrenadas en los días X\n",
    "    '''\n",
    "    # ver como hacer poara que solo admita strings\n",
    "    dia = dia.lower()\n",
    "\n",
    "    if dia in ['miercoles','mièrcoles']:\n",
    "        dia = 'miércoles'\n",
    "    \n",
    "    if dia in ['sabado','sàbado']:\n",
    "         dia = 'sábado'\n",
    "    \n",
    "    if dia in ['lunes','martes','miércoles','jueves', 'viernes', 'sábado', 'domingo']:\n",
    "        respuesta  = estrenos_por_dia[estrenos_por_dia.dia == dia].iloc[0,1]\n",
    "\n",
    "    else:\n",
    "        respuesta = 'Ud. ingreso: ' + dia + '. Por favor, ingrese el nombre del dia que desea consultar en español'\n",
    "        \n",
    "    return {'dia':dia, 'cantidad':respuesta}"
   ]
  },
  {
   "cell_type": "code",
   "execution_count": 198,
   "metadata": {},
   "outputs": [
    {
     "data": {
      "text/plain": [
       "{'dia': 'lunes', 'cantidad': 3499}"
      ]
     },
     "execution_count": 198,
     "metadata": {},
     "output_type": "execute_result"
    }
   ],
   "source": [
    "cantidad_filmaciones_dia('lunes') \n"
   ]
  },
  {
   "attachments": {},
   "cell_type": "markdown",
   "metadata": {},
   "source": [
    "------"
   ]
  },
  {
   "attachments": {},
   "cell_type": "markdown",
   "metadata": {},
   "source": [
    "# 3. score_titulo"
   ]
  },
  {
   "cell_type": "code",
   "execution_count": 200,
   "metadata": {},
   "outputs": [],
   "source": [
    "# @app.get('/score_titulo/{titulo_de_la_filmación}')\n",
    "# REVISAR!!!!!!!!!!!!!!!!!!!!!!!!!!!!!!!!!!!!!!!!!!!!!!!!!!!!!!!!!!!!!!!!!!!!!!!!!!!!!!!!!!!!!!!!!!!!!!!!!!!!!!!!!!!!!!!!!!!!!!!!!!!!!!!!!!!!!!!!!!!!!\n",
    "def score_titulo( titulo_de_la_filmación ): \n",
    "    '''\n",
    "    Se ingresa el título de una filmación esperando como respuesta el título, el año de estreno y el score.\n",
    "    Ejemplo de retorno: La película X fue estrenada en el año X con un score/popularidad de X\n",
    "    '''\n",
    "    pelis = (\n",
    "        movies[movies['title']\n",
    "        .str.contains(titulo_de_la_filmación, case=False)]\n",
    "        [['title','release_year','popularity']]\n",
    "        )\n",
    "\n",
    "    titulos = pelis['title'].tolist()\n",
    "    anios = pelis['release_year'].tolist()\n",
    "    popularidad = pelis['popularity'].tolist()\n",
    "\n",
    "\n",
    "    return {'titulo':titulos, 'anio':anios, 'popularidad':popularidad}"
   ]
  },
  {
   "cell_type": "code",
   "execution_count": 201,
   "metadata": {},
   "outputs": [
    {
     "data": {
      "text/plain": [
       "{'titulo': ['Jumanji'], 'anio': [1995], 'popularidad': [17.015539]}"
      ]
     },
     "execution_count": 201,
     "metadata": {},
     "output_type": "execute_result"
    }
   ],
   "source": [
    "score_titulo( 'Jumanji' )"
   ]
  },
  {
   "attachments": {},
   "cell_type": "markdown",
   "metadata": {},
   "source": [
    "-----------"
   ]
  },
  {
   "attachments": {},
   "cell_type": "markdown",
   "metadata": {},
   "source": [
    "# 4. votos_titulo"
   ]
  },
  {
   "cell_type": "code",
   "execution_count": 202,
   "metadata": {},
   "outputs": [],
   "source": [
    "def votos_titulo( titulo_de_la_filmación ): \n",
    "    ''' Se ingresa el título de una filmación esperando como respuesta el título, la cantidad de votos y el valor promedio de las votaciones. \n",
    "    La misma variable deberá de contar con al menos 2000 valoraciones, \n",
    "    caso contrario, debemos contar con un mensaje avisando que no cumple esta condición y que por ende, no se devuelve ningun valor.\n",
    "    Ejemplo de retorno: La película X fue estrenada en el año X. La misma cuenta con un total de X valoraciones, con un promedio de X\n",
    "    '''\n",
    "    pelis = (\n",
    "        movies[movies['title']\n",
    "        .str.contains(titulo_de_la_filmación, case=False)]\n",
    "        [['title','release_year','vote_count','vote_average']]\n",
    "        )\n",
    "\n",
    "    out = []\n",
    "    \n",
    "    for index, row in pelis.iterrows():\n",
    "        title = row['title']\n",
    "        release_year = row['release_year']\n",
    "        vote_count = row['vote_count']\n",
    "        vote_average = row['vote_average']\n",
    "\n",
    "        if vote_count < 2000:\n",
    "            message = \"La película {} fue estrenada en {}. La misma no cuenta con las valoraciones suficientes para calcular el valor promedio de las votaciones\".format(title, release_year)\n",
    "        else:    \n",
    "            message = \"La película {} fue estrenada en {}. La misma cuenta con un total de {} valoraciones, con un promedio de {}\".format(title, release_year, vote_count,vote_average)\n",
    "        \n",
    "        out.append(message)\n",
    "    \n",
    "    out= tuple(out)  \n",
    "\n",
    "    return {out}  \n",
    "    "
   ]
  },
  {
   "cell_type": "code",
   "execution_count": 203,
   "metadata": {},
   "outputs": [
    {
     "data": {
      "text/plain": [
       "{('La película Toy Story fue estrenada en 1995. La misma cuenta con un total de 5415 valoraciones, con un promedio de 7',\n",
       "  'La película Toy Story 2 fue estrenada en 1999. La misma cuenta con un total de 3914 valoraciones, con un promedio de 7',\n",
       "  'La película Toy Story 3 fue estrenada en 2010. La misma cuenta con un total de 4710 valoraciones, con un promedio de 7',\n",
       "  'La película Toy Story of Terror! fue estrenada en 2013. La misma no cuenta con las valoraciones suficientes para calcular el valor promedio de las votaciones',\n",
       "  'La película Toy Story That Time Forgot fue estrenada en 2014. La misma no cuenta con las valoraciones suficientes para calcular el valor promedio de las votaciones')}"
      ]
     },
     "execution_count": 203,
     "metadata": {},
     "output_type": "execute_result"
    }
   ],
   "source": [
    "votos_titulo( 'Toy Story' )"
   ]
  },
  {
   "attachments": {},
   "cell_type": "markdown",
   "metadata": {},
   "source": [
    "----------"
   ]
  },
  {
   "attachments": {},
   "cell_type": "markdown",
   "metadata": {},
   "source": [
    "# 5. get_actor"
   ]
  },
  {
   "cell_type": "code",
   "execution_count": 204,
   "metadata": {},
   "outputs": [],
   "source": [
    "def get_actor( nombre_actor ): \n",
    "    '''\n",
    "    Se ingresa el nombre de un actor que se encuentre dentro de un dataset debiendo devolver el éxito del mismo medido a través del retorno. \n",
    "    Además, la cantidad de películas que en las que ha participado y el promedio de retorno. La definición no deberá considerar directores.\n",
    "    Ejemplo de retorno: El actor X ha participado de X cantidad de filmaciones, el mismo ha conseguido un retorno de X con un promedio de X por filmación\n",
    "    '''\n",
    "    \n",
    "    id_actor = actors[actors.name == nombre_actor].iloc[0,0]\n",
    "\n",
    "    df = (\n",
    "        pd.merge(\n",
    "            actors[actors['id_actor'] == id_actor],\n",
    "            movies[['id_movie','title','revenue']],\n",
    "            on='id_movie', \n",
    "            how='inner')\n",
    "        )\n",
    "    \n",
    "    cantidad = df.shape[0] \n",
    "\n",
    "    ganancia_total = df.revenue.sum()\n",
    "\n",
    "    promedio = df.revenue.mean().round(2)\n",
    "\n",
    "    return {'actor':nombre_actor, 'cantidad_filmaciones':cantidad, 'retorno_total':ganancia_total, 'retorno_promedio':promedio}\n"
   ]
  },
  {
   "cell_type": "code",
   "execution_count": 205,
   "metadata": {},
   "outputs": [
    {
     "data": {
      "text/plain": [
       "{'actor': 'Tom Hanks',\n",
       " 'cantidad_filmaciones': 71,\n",
       " 'retorno_total': 9936142170,\n",
       " 'retorno_promedio': 139945664.37}"
      ]
     },
     "execution_count": 205,
     "metadata": {},
     "output_type": "execute_result"
    }
   ],
   "source": [
    "get_actor('Tom Hanks')"
   ]
  },
  {
   "attachments": {},
   "cell_type": "markdown",
   "metadata": {},
   "source": [
    "--------"
   ]
  },
  {
   "attachments": {},
   "cell_type": "markdown",
   "metadata": {},
   "source": [
    "# 6. get_director"
   ]
  },
  {
   "cell_type": "code",
   "execution_count": 213,
   "metadata": {},
   "outputs": [],
   "source": [
    "def get_director( nombre_director ): \n",
    "    ''' \n",
    "    Se ingresa el nombre de un director que se encuentre dentro de un dataset debiendo devolver el éxito del mismo medido a través del retorno. \n",
    "    Además, deberá devolver el nombre de cada película con la fecha de lanzamiento, retorno individual, costo y ganancia de la misma.\n",
    "    '''\n",
    "    id_director = directors[directors.name == nombre_director].iloc[0,0]\n",
    "\n",
    "    df = (\n",
    "        pd.merge(\n",
    "            directors[directors['id_director'] == id_director],\n",
    "            movies[['id_movie','title','release_year','revenue','budget','return']],\n",
    "            on='id_movie', \n",
    "            how='inner')\n",
    "    )\n",
    "    \n",
    "    retorno_total_director = df['return'].sum()\n",
    "    peliculas = df['title'].tolist()\n",
    "    anios = df['release_year'].tolist()\n",
    "    retorno_peliculas = df['return'].tolist()\n",
    "    budget_peliculas = df['budget'].tolist()\n",
    "    revenue_peliculas = df['revenue'].tolist()\n",
    "\n",
    "    data = {\n",
    "        'director':nombre_director, \n",
    "        'retorno_total_director':retorno_total_director, \n",
    "        'peliculas':peliculas, \n",
    "        'anio':anios, \n",
    "        'retorno_pelicula':retorno_peliculas, \n",
    "        'budget_pelicula':budget_peliculas, \n",
    "        'revenue_pelicula':revenue_peliculas}\n",
    "\n",
    "    return data\n"
   ]
  },
  {
   "cell_type": "code",
   "execution_count": 214,
   "metadata": {},
   "outputs": [
    {
     "data": {
      "text/plain": [
       "{'director': 'Bob Peterson',\n",
       " 'retorno_total_director': 28.145318034057752,\n",
       " 'peliculas': ['Finding Nemo',\n",
       "  'Up',\n",
       "  'Inside Out',\n",
       "  'The Good Dinosaur',\n",
       "  'Finding Dory',\n",
       "  'Cars 3'],\n",
       " 'anio': [2003, 2009, 2015, 2015, 2016, 2017],\n",
       " 'retorno_pelicula': [10.003569531914891,\n",
       "  4.200566182857143,\n",
       "  4.90063528,\n",
       "  1.89672084,\n",
       "  5.142854445,\n",
       "  2.000971754285714],\n",
       " 'budget_pelicula': [94000000,\n",
       "  175000000,\n",
       "  175000000,\n",
       "  175000000,\n",
       "  200000000,\n",
       "  175000000],\n",
       " 'revenue_pelicula': [940335536,\n",
       "  735099082,\n",
       "  857611174,\n",
       "  331926147,\n",
       "  1028570889,\n",
       "  350170057]}"
      ]
     },
     "execution_count": 214,
     "metadata": {},
     "output_type": "execute_result"
    }
   ],
   "source": [
    "get_director('Bob Peterson')"
   ]
  },
  {
   "attachments": {},
   "cell_type": "markdown",
   "metadata": {},
   "source": [
    "------"
   ]
  }
 ],
 "metadata": {
  "kernelspec": {
   "display_name": "Python 3",
   "language": "python",
   "name": "python3"
  },
  "language_info": {
   "codemirror_mode": {
    "name": "ipython",
    "version": 3
   },
   "file_extension": ".py",
   "mimetype": "text/x-python",
   "name": "python",
   "nbconvert_exporter": "python",
   "pygments_lexer": "ipython3",
   "version": "3.11.0"
  },
  "orig_nbformat": 4
 },
 "nbformat": 4,
 "nbformat_minor": 2
}
