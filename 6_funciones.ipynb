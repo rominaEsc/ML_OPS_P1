{
 "cells": [
  {
   "cell_type": "code",
   "execution_count": 2,
   "metadata": {},
   "outputs": [],
   "source": [
    "\n",
    "import pandas as pd"
   ]
  },
  {
   "cell_type": "code",
   "execution_count": 3,
   "metadata": {},
   "outputs": [],
   "source": [
    "estrenos_por_mes = pd.read_csv(\"data/estrenos_por_mes.csv\", sep=\",\")\n",
    "estrenos_por_dia = pd.read_csv(\"data/estrenos_por_dia.csv\", sep=\",\")\n",
    "movies = pd.read_csv(\"data/movies_etl.csv\", sep=\",\")\n",
    "actors = pd.read_csv(\"data/actors.csv\", sep=\",\")\n",
    "directors = pd.read_csv(\"data/directors.csv\", sep=\",\")\n",
    "df = pd.read_csv(\"data/ml_df.csv\", sep=\",\")\n",
    "pelis = movies[['title','release_year','vote_count','vote_average']][movies['vote_count'] > 2000]\n"
   ]
  },
  {
   "attachments": {},
   "cell_type": "markdown",
   "metadata": {},
   "source": [
    "-----"
   ]
  },
  {
   "attachments": {},
   "cell_type": "markdown",
   "metadata": {},
   "source": [
    "# 1. cantidad_filmaciones_mes"
   ]
  },
  {
   "cell_type": "code",
   "execution_count": 4,
   "metadata": {},
   "outputs": [],
   "source": [
    "def cantidad_filmaciones_mes( mes ): \n",
    "    '''\n",
    "    Se ingresa un mes en idioma Español. Debe devolver la cantidad de películas que fueron estrenadas en el mes consultado en la totalidad del dataset.\n",
    "    Ejemplo de retorno: X cantidad de películas fueron estrenadas en el mes de X\n",
    "    '''\n",
    "    mes = mes.lower().strip()\n",
    "\n",
    "    if mes == 'setiembre':\n",
    "        mes = 'septiembre'\n",
    "    if mes in ['enero','febrero','marzo','abril','mayo','junio','julio','agosto','septiembre','octubre','noviembre','diciembre']:\n",
    "        respuesta = estrenos_por_mes[estrenos_por_mes.mes == mes].iloc[0,1]\n",
    "        respuesta = int(respuesta)\n",
    "\n",
    "    else:\n",
    "        respuesta = 'Ud. ingreso: ' + mes + '. Por favor, ingrese el nombre del mes que desea consultar en español'\n",
    "    \n",
    "    return {'mes':mes, 'cantidad':respuesta}"
   ]
  },
  {
   "cell_type": "code",
   "execution_count": 5,
   "metadata": {},
   "outputs": [
    {
     "data": {
      "text/plain": [
       "{'mes': 'enro',\n",
       " 'cantidad': 'Ud. ingreso: enro. Por favor, ingrese el nombre del mes que desea consultar en español'}"
      ]
     },
     "execution_count": 5,
     "metadata": {},
     "output_type": "execute_result"
    }
   ],
   "source": [
    "cantidad_filmaciones_mes('enro')\n"
   ]
  },
  {
   "attachments": {},
   "cell_type": "markdown",
   "metadata": {},
   "source": [
    "----------"
   ]
  },
  {
   "attachments": {},
   "cell_type": "markdown",
   "metadata": {},
   "source": [
    "# 2. cantidad_filmaciones_dia"
   ]
  },
  {
   "cell_type": "code",
   "execution_count": 6,
   "metadata": {},
   "outputs": [],
   "source": [
    " # @app.get('/cantidad_filmaciones_dia/{dia}')\n",
    "\n",
    "def cantidad_filmaciones_dia( dia ): \n",
    "    '''\n",
    "    Se ingresa un día en idioma Español. Debe devolver la cantidad de películas que fueron estrenadas en día consultado en la totalidad del dataset.\n",
    "    Ejemplo de retorno: X cantidad de películas fueron estrenadas en los días X\n",
    "    '''\n",
    "    # ver como hacer poara que solo admita strings\n",
    "    dia = dia.lower().strip()\n",
    "\n",
    "    if dia in ['miercoles','mièrcoles']:\n",
    "        dia = 'miércoles'\n",
    "    \n",
    "    if dia in ['sabado','sàbado']:\n",
    "         dia = 'sábado'\n",
    "    \n",
    "    if dia in ['lunes','martes','miércoles','jueves', 'viernes', 'sábado', 'domingo']:\n",
    "        respuesta  = estrenos_por_dia[estrenos_por_dia.dia == dia].iloc[0,1]\n",
    "        respuesta = int(respuesta)\n",
    "\n",
    "    else:\n",
    "        respuesta = 'Ud. ingreso: ' + dia + '. Por favor, ingrese el nombre del dia que desea consultar en español'\n",
    "        \n",
    "    return {'dia':dia, 'cantidad':respuesta}"
   ]
  },
  {
   "cell_type": "code",
   "execution_count": 7,
   "metadata": {},
   "outputs": [
    {
     "data": {
      "text/plain": [
       "{'dia': 'lunes', 'cantidad': 3499}"
      ]
     },
     "execution_count": 7,
     "metadata": {},
     "output_type": "execute_result"
    }
   ],
   "source": [
    "cantidad_filmaciones_dia('lunes') \n"
   ]
  },
  {
   "attachments": {},
   "cell_type": "markdown",
   "metadata": {},
   "source": [
    "------"
   ]
  },
  {
   "attachments": {},
   "cell_type": "markdown",
   "metadata": {},
   "source": [
    "# 3. score_titulo"
   ]
  },
  {
   "cell_type": "code",
   "execution_count": 8,
   "metadata": {},
   "outputs": [],
   "source": [
    "# @app.get('/score_titulo/{titulo_de_la_filmación}')\n",
    "\n",
    "def score_titulo( titulo_de_la_filmación ): \n",
    "    '''\n",
    "    Se ingresa el título de una filmación esperando como respuesta el título, el año de estreno y el score.\n",
    "    Ejemplo de retorno: La película X fue estrenada en el año X con un score/popularidad de X\n",
    "    '''\n",
    "    pelis = (\n",
    "    movies[movies['title']\n",
    "    == titulo_de_la_filmación.title().strip()]\n",
    "    [['title','release_year','popularity']]\n",
    "    )\n",
    "\n",
    "\n",
    "    titulos = pelis['title'].tolist()\n",
    "    anios = pelis['release_year'].tolist()\n",
    "    popularidad = pelis['popularity'].tolist()\n",
    "\n",
    "\n",
    "    return {'titulo':titulos, 'anio':anios, 'popularidad':popularidad}"
   ]
  },
  {
   "cell_type": "code",
   "execution_count": 9,
   "metadata": {},
   "outputs": [
    {
     "data": {
      "text/plain": [
       "{'titulo': ['Titanic', 'Titanic', 'Titanic'],\n",
       " 'anio': [1997, 1953, 1996],\n",
       " 'popularidad': [26.88907, 12.90707, 3.435807]}"
      ]
     },
     "execution_count": 9,
     "metadata": {},
     "output_type": "execute_result"
    }
   ],
   "source": [
    "score_titulo( 'titanic' )"
   ]
  },
  {
   "attachments": {},
   "cell_type": "markdown",
   "metadata": {},
   "source": [
    "-----------"
   ]
  },
  {
   "attachments": {},
   "cell_type": "markdown",
   "metadata": {},
   "source": [
    "# 4. votos_titulo"
   ]
  },
  {
   "cell_type": "code",
   "execution_count": 10,
   "metadata": {},
   "outputs": [],
   "source": [
    "def votos_titulo( titulo_de_la_filmación ): \n",
    "    ''' Se ingresa el título de una filmación esperando como respuesta el título, la cantidad de votos y el valor promedio de las votaciones. \n",
    "    La misma variable deberá de contar con al menos 2000 valoraciones, \n",
    "    caso contrario, debemos contar con un mensaje avisando que no cumple esta condición y que por ende, no se devuelve ningun valor.\n",
    "    Ejemplo de retorno: La película X fue estrenada en el año X. La misma cuenta con un total de X valoraciones, con un promedio de X.\n",
    "    '''\n",
    "\n",
    "    pelis = movies[['title','release_year','vote_count','vote_average']][movies['vote_count'] > 2000]\n",
    "\n",
    "    mensaje = \"La pelicula {} no cuenta con las valoraciones suficientes para calcular el valor promedio de las votaciones\".format(titulo_de_la_filmación)\n",
    "\n",
    "\n",
    "    if pelis['title'].str.contains(titulo_de_la_filmación).any():\n",
    "        pelis = pelis[pelis['title']==titulo_de_la_filmación]\n",
    "        anios = pelis['release_year'].tolist()\n",
    "        vote_count = pelis['vote_count'].tolist()\n",
    "        vote_average = pelis['vote_average'].tolist()\n",
    "  \n",
    "        data = {\n",
    "            'titulo':titulo_de_la_filmación, \n",
    "            'anio': anios, \n",
    "            'voto_total':vote_count, \n",
    "            'voto_promedio':vote_average}\n",
    "        \n",
    "    else:\n",
    "        data = {mensaje}\n",
    "\n",
    "    return data\n"
   ]
  },
  {
   "cell_type": "code",
   "execution_count": 11,
   "metadata": {},
   "outputs": [
    {
     "name": "stdout",
     "output_type": "stream",
     "text": [
      "{'titulo': 'Titanic', 'anio': [1997], 'voto_total': [7770], 'voto_promedio': [7]}\n",
      "{'La pelicula The Toy no cuenta con las valoraciones suficientes para calcular el valor promedio de las votaciones'}\n",
      "{'La pelicula Grumpier Old Men no cuenta con las valoraciones suficientes para calcular el valor promedio de las votaciones'}\n",
      "{'titulo': 'The Mummy', 'anio': [1999, 2017], 'voto_total': [2796, 2122], 'voto_promedio': [6, 5]}\n"
     ]
    }
   ],
   "source": [
    "print (votos_titulo( 'Titanic' )) # varias pelis, solo 1 cumple la condición\n",
    "print (votos_titulo( 'The Toy' )) # 2 pelis que no cumplen la condicion\n",
    "print (votos_titulo( 'Grumpier Old Men' )) # 1 peli que no cumple la condicion\n",
    "print (votos_titulo('The Mummy')) # varias pelis, que cumplen la condicion"
   ]
  },
  {
   "attachments": {},
   "cell_type": "markdown",
   "metadata": {},
   "source": [
    "----------"
   ]
  },
  {
   "attachments": {},
   "cell_type": "markdown",
   "metadata": {},
   "source": [
    "# 5. get_actor"
   ]
  },
  {
   "cell_type": "code",
   "execution_count": 48,
   "metadata": {},
   "outputs": [],
   "source": [
    "def get_actor( nombre_actor ): \n",
    "    '''\n",
    "    Se ingresa el nombre de un actor que se encuentre dentro de un dataset debiendo devolver el éxito del mismo medido a través del retorno. \n",
    "    Además, la cantidad de películas que en las que ha participado y el promedio de retorno. La definición no deberá considerar directores.\n",
    "    Ejemplo de retorno: El actor X ha participado de X cantidad de filmaciones, el mismo ha conseguido un retorno de X con un promedio de X por filmación\n",
    "    '''\n",
    "\n",
    "    if (actors == nombre_actor).any().any():\n",
    "    \n",
    "        id_actor = actors[actors.name == nombre_actor.title().strip()].iloc[0,0]\n",
    "\n",
    "        df = (\n",
    "            pd.merge(\n",
    "                actors[actors['id_actor'] == id_actor],\n",
    "                movies[['id_movie','title','revenue']],\n",
    "                on='id_movie', \n",
    "                how='inner')\n",
    "            )\n",
    "        \n",
    "        cantidad = df.shape[0] \n",
    "\n",
    "        ganancia_total = int(df.revenue.sum())\n",
    "\n",
    "        promedio = int(df.revenue.mean().round(2))\n",
    "\n",
    "        data = {'actor':nombre_actor, 'cantidad_filmaciones':cantidad, 'retorno_total':ganancia_total, 'retorno_promedio':promedio}\n",
    "\n",
    "    else:\n",
    "        mensaje = 'El actor {} no se encuentra en la base de datos.'.format(nombre_actor)\n",
    "        \n",
    "        data = { mensaje }\n",
    "    return data   \n",
    "\n",
    "\n"
   ]
  },
  {
   "cell_type": "code",
   "execution_count": 50,
   "metadata": {},
   "outputs": [
    {
     "data": {
      "text/plain": [
       "{'actor': 'Tom Hanks',\n",
       " 'cantidad_filmaciones': 71,\n",
       " 'retorno_total': 9936142170,\n",
       " 'retorno_promedio': 139945664}"
      ]
     },
     "execution_count": 50,
     "metadata": {},
     "output_type": "execute_result"
    }
   ],
   "source": [
    "get_actor( 'Tom Hanks' )"
   ]
  },
  {
   "cell_type": "code",
   "execution_count": 36,
   "metadata": {},
   "outputs": [
    {
     "data": {
      "text/plain": [
       "31"
      ]
     },
     "execution_count": 36,
     "metadata": {},
     "output_type": "execute_result"
    }
   ],
   "source": [
    "actors[actors.name == 'Tom Hanks'.title().strip()].iloc[0,0]"
   ]
  },
  {
   "cell_type": "code",
   "execution_count": null,
   "metadata": {},
   "outputs": [],
   "source": []
  },
  {
   "attachments": {},
   "cell_type": "markdown",
   "metadata": {},
   "source": [
    "--------"
   ]
  },
  {
   "attachments": {},
   "cell_type": "markdown",
   "metadata": {},
   "source": [
    "# 6. get_director"
   ]
  },
  {
   "cell_type": "code",
   "execution_count": 14,
   "metadata": {},
   "outputs": [],
   "source": [
    "def get_director( nombre_director ): \n",
    "    '''\n",
    "    Se ingresa el nombre de un director que se encuentre dentro de un dataset debiendo devolver el éxito del mismo medido a través del retorno. \n",
    "    Además, deberá devolver el nombre de cada película con la fecha de lanzamiento, retorno individual, costo y ganancia de la misma.\n",
    "    '''\n",
    "    \n",
    "    id_director = directors[directors.name == nombre_director.title().strip()].iloc[0,0]\n",
    "\n",
    "    df = (\n",
    "        pd.merge(\n",
    "            directors[directors['id_director'] == id_director],\n",
    "            movies[['id_movie','title','release_year','revenue','budget','return']],\n",
    "            on='id_movie', \n",
    "            how='inner')\n",
    "    )\n",
    "    \n",
    "    retorno_total_director = df['return'].sum()\n",
    "    peliculas = df['title'].tolist()\n",
    "    anios = df['release_year'].tolist()\n",
    "    retorno_peliculas = df['return'].tolist()\n",
    "    budget_peliculas = df['budget'].tolist()\n",
    "    revenue_peliculas = df['revenue'].tolist()\n",
    "\n",
    "    data = {\n",
    "        'director':nombre_director, \n",
    "        'retorno_total_director':retorno_total_director, \n",
    "        'peliculas':peliculas, \n",
    "        'anio':anios, \n",
    "        'retorno_pelicula':retorno_peliculas, \n",
    "        'budget_pelicula':budget_peliculas, \n",
    "        'revenue_pelicula':revenue_peliculas}\n",
    "\n",
    "    return data\n",
    "    "
   ]
  },
  {
   "cell_type": "code",
   "execution_count": 15,
   "metadata": {},
   "outputs": [
    {
     "data": {
      "text/plain": [
       "{'director': 'Bob Peterson',\n",
       " 'retorno_total_director': 1.7635100807292907,\n",
       " 'peliculas': ['Finding Nemo',\n",
       "  'Up',\n",
       "  'Inside Out',\n",
       "  'The Good Dinosaur',\n",
       "  'Finding Dory',\n",
       "  'Cars 3'],\n",
       " 'anio': [2003, 2009, 2015, 2015, 2016, 2017],\n",
       " 'retorno_pelicula': [0.0999643174178626,\n",
       "  0.2380631458875907,\n",
       "  0.2040551771075688,\n",
       "  0.5272257144599096,\n",
       "  0.1944445464468127,\n",
       "  0.4997571794095461],\n",
       " 'budget_pelicula': [94000000,\n",
       "  175000000,\n",
       "  175000000,\n",
       "  175000000,\n",
       "  200000000,\n",
       "  175000000],\n",
       " 'revenue_pelicula': [940335536,\n",
       "  735099082,\n",
       "  857611174,\n",
       "  331926147,\n",
       "  1028570889,\n",
       "  350170057]}"
      ]
     },
     "execution_count": 15,
     "metadata": {},
     "output_type": "execute_result"
    }
   ],
   "source": [
    "get_director('Bob Peterson')"
   ]
  },
  {
   "attachments": {},
   "cell_type": "markdown",
   "metadata": {},
   "source": [
    "------"
   ]
  },
  {
   "cell_type": "code",
   "execution_count": 16,
   "metadata": {},
   "outputs": [
    {
     "data": {
      "text/plain": [
       "True"
      ]
     },
     "execution_count": 16,
     "metadata": {},
     "output_type": "execute_result"
    }
   ],
   "source": [
    "movies['title'].str.contains('spider').any()"
   ]
  }
 ],
 "metadata": {
  "kernelspec": {
   "display_name": "Python 3",
   "language": "python",
   "name": "python3"
  },
  "language_info": {
   "codemirror_mode": {
    "name": "ipython",
    "version": 3
   },
   "file_extension": ".py",
   "mimetype": "text/x-python",
   "name": "python",
   "nbconvert_exporter": "python",
   "pygments_lexer": "ipython3",
   "version": "3.11.0"
  },
  "orig_nbformat": 4
 },
 "nbformat": 4,
 "nbformat_minor": 2
}
